{
 "cells": [
  {
   "cell_type": "code",
   "execution_count": 2,
   "metadata": {},
   "outputs": [],
   "source": [
    "import pickle\n",
    "# f(x) y = mx + c\n",
    "# constant c is the bias that is induced to the function to align output of prediction with actual outcome.\n",
    "bias = 1\n",
    "infile = open('weight_values.pickle','rb')\n",
    "weights = pickle.load(infile)\n",
    "infile.close()"
   ]
  },
  {
   "cell_type": "code",
   "execution_count": 11,
   "metadata": {},
   "outputs": [
    {
     "name": "stdout",
     "output_type": "stream",
     "text": [
      "\n",
      "The predicted fruit is APPLE\n"
     ]
    }
   ],
   "source": [
    "surface, weight = map(str,input(\"Enter the surface as 'smooth' or 'bumpy', weight of the fruit to be classified\").split())\n",
    "surface = 0 if surface == 'bumpy' else 1\n",
    "weight = 0 if int(weight) > 120 else 1\n",
    "guessed_fruit = surface*weights[0] + weight*weights[1] + bias*weights[2]\n",
    "print('The predicted fruit is',end = \" \")\n",
    "print('APPLE') if guessed_fruit > 0 else print('ORANGE')"
   ]
  }
 ],
 "metadata": {
  "kernelspec": {
   "display_name": "Python 3",
   "language": "python",
   "name": "python3"
  },
  "language_info": {
   "codemirror_mode": {
    "name": "ipython",
    "version": 3
   },
   "file_extension": ".py",
   "mimetype": "text/x-python",
   "name": "python",
   "nbconvert_exporter": "python",
   "pygments_lexer": "ipython3",
   "version": "3.9.6"
  }
 },
 "nbformat": 4,
 "nbformat_minor": 2
}
